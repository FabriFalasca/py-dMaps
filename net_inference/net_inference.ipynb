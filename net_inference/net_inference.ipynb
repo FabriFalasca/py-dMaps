{
 "cells": [
  {
   "cell_type": "code",
   "execution_count": 1,
   "metadata": {},
   "outputs": [],
   "source": [
    "# -*- coding: utf-8 -*-\n",
    "# importing libraries\n",
    "import numpy as np\n",
    "import matplotlib.pyplot as plt\n",
    "from utils_net_inference import *\n",
    "import scipy.stats"
   ]
  },
  {
   "cell_type": "code",
   "execution_count": 2,
   "metadata": {},
   "outputs": [],
   "source": [
    "# Path to signals\n",
    "path = './timeseries.txt'"
   ]
  },
  {
   "cell_type": "code",
   "execution_count": 3,
   "metadata": {},
   "outputs": [],
   "source": [
    "# Domains ids\n",
    "ids = ['0', '20', '22', '35', '38', '54', '61', '64', '6', '70', '74', '75']"
   ]
  },
  {
   "cell_type": "code",
   "execution_count": 4,
   "metadata": {},
   "outputs": [],
   "source": [
    "# Parameters for the network inference\n",
    "# Tau max\n",
    "tau_max = 12\n",
    "# FDR rate\n",
    "q = 0.03"
   ]
  },
  {
   "cell_type": "code",
   "execution_count": 5,
   "metadata": {},
   "outputs": [],
   "source": [
    "network_list, strength_list = net_inference_FDR(path,ids,tau_max,q)"
   ]
  },
  {
   "cell_type": "code",
   "execution_count": 6,
   "metadata": {},
   "outputs": [
    {
     "data": {
      "text/plain": [
       "[['20', '22', -1, 4, 1, -0.4761034816622015, -3904.281406571045],\n",
       " ['20', '54', 0, 1, 0, -0.306732434084665, -4794.043300568529],\n",
       " ['20', '61', -10, -3, -6, 0.40693550045107235, 4927.043679229831],\n",
       " ['20', '70', 3, 6, 4, 0.3591438501577918, 4971.025316838217],\n",
       " ['20', '74', -3, 3, 0, -0.658810209804914, -44994.300426043104],\n",
       " ['20', '75', -12, -5, -8, 0.4250177000215324, 9853.407813032309],\n",
       " ['22', '54', -2, 3, 0, 0.34931485882624314, 2406.280549927201],\n",
       " ['22', '61', -8, -1, -6, -0.34119019482853946, -1820.724873194928],\n",
       " ['22', '70', -3, 3, 0, -0.303521308318714, -1851.6277295055056],\n",
       " ['22', '74', -5, 1, -2, 0.5961123306321922, 17943.70983894848],\n",
       " ['22', '75', -12, -7, -11, -0.34838966013687456, -3559.849582490768],\n",
       " ['35', '54', 8, 8, 8, 0.23287601382991405, 1544.3072596373993],\n",
       " ['38', '54', 0, 6, 0, 0.2831577818142795, 2018.6154700520883],\n",
       " ['54', '74', -6, 0, -3, 0.5950186168591978, 34136.35786896345],\n",
       " ['54', '75', -1, 7, 3, 0.3670833257467904, 7148.806543181031],\n",
       " ['61', '74', -1, 9, 5, -0.4177242167604535, -18564.996190533468],\n",
       " ['61', '75', -8, -4, -7, 0.4432796849815473, 6687.523139539875],\n",
       " ['70', '74', -7, 0, -4, -0.3578758686492274, -18182.530860579507],\n",
       " ['74', '75', -9, -8, -9, -0.3295239972528907, -28042.121423125183]]"
      ]
     },
     "execution_count": 6,
     "metadata": {},
     "output_type": "execute_result"
    }
   ],
   "source": [
    "network_list"
   ]
  },
  {
   "cell_type": "code",
   "execution_count": 7,
   "metadata": {},
   "outputs": [
    {
     "data": {
      "text/plain": [
       "[['0', 0],\n",
       " ['20', 73444.10194228303],\n",
       " ['22', 31486.473980637933],\n",
       " ['35', 1544.3072596373993],\n",
       " ['38', 2018.6154700520883],\n",
       " ['54', 52048.4109923297],\n",
       " ['61', 32000.2878824981],\n",
       " ['64', 0],\n",
       " ['6', 0],\n",
       " ['70', 25005.18390692323],\n",
       " ['74', 161864.0166081932],\n",
       " ['75', 55291.70850136917]]"
      ]
     },
     "execution_count": 7,
     "metadata": {},
     "output_type": "execute_result"
    }
   ],
   "source": [
    "strength_list"
   ]
  },
  {
   "cell_type": "code",
   "execution_count": null,
   "metadata": {},
   "outputs": [],
   "source": []
  }
 ],
 "metadata": {
  "kernelspec": {
   "display_name": "Python 3",
   "language": "python",
   "name": "python3"
  },
  "language_info": {
   "codemirror_mode": {
    "name": "ipython",
    "version": 3
   },
   "file_extension": ".py",
   "mimetype": "text/x-python",
   "name": "python",
   "nbconvert_exporter": "python",
   "pygments_lexer": "ipython3",
   "version": "3.7.3"
  }
 },
 "nbformat": 4,
 "nbformat_minor": 2
}
